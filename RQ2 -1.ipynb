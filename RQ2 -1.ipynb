{
 "cells": [
  {
   "cell_type": "raw",
   "id": "2413570a-e608-4264-aafd-95da36231bf7",
   "metadata": {},
   "source": [
    "RQ2: How many test repetitions are needed to ensure a stable benchmark? "
   ]
  },
  {
   "cell_type": "raw",
   "id": "e5c6799c-d07e-48b8-9bbb-15f405f89d67",
   "metadata": {},
   "source": [
    "#This code for the first 100 iteration not the entier data "
   ]
  },
  {
   "cell_type": "code",
   "execution_count": null,
   "id": "b6aac47f-37ba-4718-b822-437d29f95c25",
   "metadata": {},
   "outputs": [],
   "source": [
    "import os\n",
    "import json\n",
    "import csv\n",
    "import pandas as pd\n",
    "import matplotlib.pyplot as plt\n",
    "import numpy as np\n",
    "\n",
    "# Function to process a single JSON file and plot the data\n",
    "def process_json_file_and_plot(json_filepath, plot_count):\n",
    "    with open(json_filepath, 'r') as json_file:\n",
    "        data = json.load(json_file)\n",
    "        # Extracting the measurements from the first fork\n",
    "        measurements_list = data[0]\n",
    "        \n",
    "        # Create a DataFrame for the measurements\n",
    "        df = pd.DataFrame(measurements_list, columns=['Measurement'])\n",
    "        df['Iteration'] = df.index  # Use index directly for x-axis\n",
    "        \n",
    "        # Limit DataFrame to first 100 iterations\n",
    "        df = df[df['Iteration'] <= 100]\n",
    "\n",
    "        # Plot the data\n",
    "        plt.figure(figsize=(10, 6))\n",
    "        plt.plot(df['Iteration'], df['Measurement'], marker='o', linestyle='-')\n",
    "        plt.xlabel('Iteration', fontsize=18)\n",
    "        plt.ylabel('Measurement', fontsize=18)\n",
    "        plt.xticks(np.arange(0, max(df['Iteration'])+1, 10))  # Set x-axis tick marks every 10 units\n",
    "        plt.gca().xaxis.set_minor_locator(plt.MultipleLocator(1))  # Add minor ticks between major ticks\n",
    "        plt.title('Plot for: ' + os.path.basename(json_filepath))  # Use only file name in title\n",
    "        plt.legend(fontsize=16)# Increase font size for the legend\n",
    "        plt.xticks(fontsize=14) # Increase font size for the tick labels\n",
    "        plt.yticks(fontsize=14)\n",
    "        plt.grid(True)# Display grid for better readability\n",
    "        plt.show()# Show plot\n",
    "    \n",
    "        # Save the plot as PNG\n",
    "       # if plot_count <= 30:\n",
    "           # plot_filename = 'plot_{}.png'.format(plot_count)\n",
    "           # plt.savefig(plot_filename, dpi=300)\n",
    "           # print('Plot {} saved as {}'.format(plot_count, plot_filename))\n",
    "        #plt.show()\n",
    "        \n",
    "# Loop through all JSON files in the folder\n",
    "folder_path = '/Users/ayahmiqdad/Desktop/Thesis literutre 2024/icpe-data-challenge-jmh/timeseries'\n",
    "plot_count = 0\n",
    "for filename in os.listdir(folder_path):\n",
    "    if filename.endswith('.json'):\n",
    "        json_filepath = os.path.join(folder_path, filename)\n",
    "        process_json_file_and_plot(json_filepath, plot_count)\n",
    "        plot_count += 1"
   ]
  },
  {
   "cell_type": "code",
   "execution_count": null,
   "id": "e292bccc-408e-4afb-8fa5-458777af7ead",
   "metadata": {},
   "outputs": [],
   "source": []
  }
 ],
 "metadata": {
  "kernelspec": {
   "display_name": "Python 3 (ipykernel)",
   "language": "python",
   "name": "python3"
  },
  "language_info": {
   "codemirror_mode": {
    "name": "ipython",
    "version": 3
   },
   "file_extension": ".py",
   "mimetype": "text/x-python",
   "name": "python",
   "nbconvert_exporter": "python",
   "pygments_lexer": "ipython3",
   "version": "3.11.7"
  }
 },
 "nbformat": 4,
 "nbformat_minor": 5
}
